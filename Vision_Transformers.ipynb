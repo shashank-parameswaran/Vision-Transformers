{
 "cells": [
  {
   "cell_type": "markdown",
   "metadata": {
    "id": "oG9DlOqWFf2g"
   },
   "source": [
    "### Import Libraries"
   ]
  },
  {
   "cell_type": "code",
   "execution_count": null,
   "metadata": {
    "id": "8KLENcxaFh6g"
   },
   "outputs": [],
   "source": [
    "# Import necessary libraries\n",
    "import glob\n",
    "import os\n",
    "from PIL import Image\n",
    "import numpy as np\n",
    "import pandas as pd\n",
    "import scipy.io as sio\n",
    "import matplotlib.pyplot as plt\n",
    "import cv2\n",
    "from matplotlib.patches import Rectangle\n",
    "import seaborn as sns\n",
    "from sklearn.model_selection import train_test_split\n",
    "import os\n",
    "\n",
    "import keras\n",
    "import tensorflow as tf\n",
    "from tensorflow.image import extract_patches\n",
    "from tensorflow.keras import layers, Model, optimizers, regularizers\n",
    "import tensorflow.keras.backend as K\n",
    "from tensorflow.keras.utils import Sequence\n",
    "from tensorflow.python.ops.numpy_ops import np_config\n",
    "np_config.enable_numpy_behavior()"
   ]
  },
  {
   "cell_type": "markdown",
   "metadata": {
    "id": "wWDj4nrEV4zl"
   },
   "source": [
    "### Update Directory and Settings"
   ]
  },
  {
   "cell_type": "code",
   "execution_count": null,
   "metadata": {
    "id": "HbJQW3SpQX2o"
   },
   "outputs": [],
   "source": [
    "# Set the directory to the ViT Dataset folder that contains the dataset files and weights for saved models\n",
    "directory = \"/content/gdrive/MyDrive/ViT Dataset/\"\n",
    "os.chdir(directory)\n",
    "\n",
    "# Set configurations for user defined functions\n",
    "tf.config.run_functions_eagerly(True)\n",
    "tf.data.experimental.enable_debug_mode()"
   ]
  },
  {
   "cell_type": "markdown",
   "metadata": {
    "id": "M5XlruGzV_LI"
   },
   "source": [
    "### PatchProcess Class\n",
    "This Class is a sub-class of the Keras.layers.Layer Class. It takes in the images in numpy format and converts them to patches. Then applies positional embedding to these patches. Finally, it is projected linearly into a Dense layer."
   ]
  },
  {
   "cell_type": "code",
   "execution_count": null,
   "metadata": {
    "id": "V4xran5IFlz4"
   },
   "outputs": [],
   "source": [
    "class PatchProcess(layers.Layer):\n",
    "  # Constructor to initialize values\n",
    "  def __init__(self, n_patches, img_size=144, **kwargs):\n",
    "      super(PatchProcess, self).__init__()\n",
    "      self.n_patches = n_patches\n",
    "\n",
    "      # If weights need to be learnt during training, it needs to be defined as a Class variable\n",
    "      self.embed = layers.Embedding(self.n_patches*self.n_patches, 128)\n",
    "      self.dense1 = layers.Dense(units=128)\n",
    "      \n",
    "\n",
    "  # Get config function is required for saving the model with configurations\n",
    "  def get_config(self):\n",
    "      config = super().get_config()\n",
    "      config.update({\n",
    "          \"n_patches\": self.n_patches\n",
    "      })\n",
    "      return config\n",
    "  \n",
    "  # This function is called when used as Keras functional API\n",
    "  def call(self, img_arr):\n",
    "      img_size = 144\n",
    "      p_size = int(img_size/self.n_patches)   # Patch size\n",
    "      b_size = tf.shape(img_arr)[0]   # Batch Size\n",
    "\n",
    "      # Extract patches from the image array\n",
    "      patches = tf.image.extract_patches(img_arr,\n",
    "          sizes=[1, p_size, p_size, 1],\n",
    "          strides=[1, p_size, p_size, 1],\n",
    "          rates=[1, 1, 1, 1],\n",
    "          padding='VALID')\n",
    "      patches = tf.reshape(patches, [b_size, -1, patches.shape[-1]])\n",
    "\n",
    "      # Linear projection\n",
    "      dense1 = self.dense1(patches)\n",
    "\n",
    "      # Learnable embedding\n",
    "      pos = np.array(range(0,self.n_patches*self.n_patches))\n",
    "      pos_embed = self.embed(pos) # 128 is output dim from linear projection layer\n",
    "      pos_embed = tf.expand_dims(pos_embed,0)\n",
    "      linear_proj = pos_embed + dense1\n",
    "      return(linear_proj)\n",
    "    "
   ]
  },
  {
   "cell_type": "markdown",
   "metadata": {
    "id": "hvIqqpazWE91"
   },
   "source": [
    "### ViT Class\n",
    "This is the Vision transformer class that contains functions to get dataset, build network, fit the model and predict output"
   ]
  },
  {
   "cell_type": "code",
   "execution_count": null,
   "metadata": {
    "id": "8ws7yOJoO8Io"
   },
   "outputs": [],
   "source": [
    "class ViT():\n",
    "\n",
    "  # Initialize variables\n",
    "  def __init__(self):\n",
    "\n",
    "    # Model variables\n",
    "    self.opt = tf.optimizers.Adam(learning_rate = 0.001)\n",
    "    self.loss_fn = keras.losses.MeanSquaredError()\n",
    "    self.batch_size = 64\n",
    "    self.epochs = 20\n",
    "\n",
    "    # Dataset variables\n",
    "    self.dataset = None\n",
    "    self.y = None\n",
    "    self.x_train = None\n",
    "    self.x_val = None\n",
    "    self.x_test = None\n",
    "    self.y_train = None\n",
    "    self.y_val = None\n",
    "    self.y_test = None\n",
    "    self.model = None\n",
    "\n",
    "    # Output variables\n",
    "    self.loss_values = None\n",
    "    self.val_loss_values = None\n",
    "    self.training_iou = None\n",
    "    self.val_iou = None\n",
    "\n",
    "    # Network Variables\n",
    "    self.mlp_block_reg = None\n",
    "    self.mlp_head_reg = None\n",
    "    self.num_heads = 3\n",
    "    self.img_size = 144\n",
    "    self.n_patches = 6\n",
    "\n",
    "  # Load the dataset\n",
    "  def get_dataset(self):\n",
    "    self.dataset = np.load(\"dataset_101.npy\")\n",
    "    self.y = np.load(\"y_101.npy\")\n",
    "\n",
    "    # Normalization\n",
    "    self.dataset = self.dataset/255.\n",
    "\n",
    "    # For stratification of categories\n",
    "    y_copy = np.load(\"y_copy_101.npy\", allow_pickle=True)\n",
    "    type_list = []\n",
    "    for val in y_copy:\n",
    "        type_list.append(val[1])\n",
    "    type_list = np.array(type_list)\n",
    "\n",
    "    # Train test split\n",
    "    self.x_train, self.x_test, self.y_train, self.y_test = train_test_split(self.dataset, self.y, test_size=0.15, stratify=type_list, random_state=10)\n",
    "    train_type_list, test_type_list = train_test_split(type_list, test_size=0.15, stratify=type_list, random_state=10)\n",
    "    self.x_train, self.x_val, self.y_train, self.y_val = train_test_split(self.x_train, self.y_train, test_size=self.x_test.shape[0], stratify=train_type_list, random_state=10)\n",
    "    train_type_list, val_type_list = train_test_split(train_type_list, test_size=test_type_list.shape[0], stratify=train_type_list, random_state=10)\n",
    "  \n",
    "  # Tensorflow eager execution function that calculates Intersection over Union as a metric\n",
    "  @tf.function\n",
    "  def iou(self, pred, actual):\n",
    "    pred = pred[0]\n",
    "    actual = actual[0]\n",
    "\n",
    "    # Get intersection coordinates\n",
    "    left_x_con = max(pred[0], actual[0])\n",
    "    top_y_con = min(pred[1], actual[1])\n",
    "    bottom_y_con = max(pred[2], actual[2])\n",
    "    right_x_con = min(pred[3], actual[3])\n",
    "\n",
    "    # Calculate the area of the boxes\n",
    "    area_intersect = abs((right_x_con - left_x_con)*(top_y_con - bottom_y_con))\n",
    "    area_pred = abs((pred[3] - pred[0])*(pred[1] - pred[2]))\n",
    "    area_actual = abs((actual[3] - actual[0])*(actual[1] - actual[2]))\n",
    "\n",
    "    # Get IoU\n",
    "    area_union = area_pred + area_actual - area_intersect\n",
    "    ratio_inter_union = area_intersect/area_union\n",
    "    if ratio_inter_union <0:\n",
    "        ratio_inter_union=0\n",
    "    return(ratio_inter_union)\n",
    "\n",
    "  # Function that initializes and builds the network architecture\n",
    "  def build_network(self):\n",
    "    start = layers.Input(shape=(self.img_size,self.img_size,3))\n",
    "\n",
    "    # Get linear projection of patches using the PatchProcess class\n",
    "    linear_proj = PatchProcess(n_patches=self.n_patches)(start)\n",
    "\n",
    "    # Normalization\n",
    "    enc1 = layers.LayerNormalization()(linear_proj)\n",
    "\n",
    "    # Multi Headed Attention\n",
    "    mha = layers.MultiHeadAttention(num_heads=self.num_heads, key_dim=128, dropout=0.1)(enc1, enc1)\n",
    "\n",
    "    # Residual input from positional embedding added\n",
    "    enc2 = layers.Add()([linear_proj, mha])\n",
    "\n",
    "    # Normalization\n",
    "    enc3 = layers.Normalization()(enc2)\n",
    "\n",
    "    # MLP\n",
    "    enc3 = layers.Dense(128, activation='relu', kernel_regularizer=self.mlp_block_reg)(enc2)\n",
    "    enc3 = layers.Dense(128, activation='relu', kernel_regularizer=self.mlp_block_reg)(enc3)\n",
    "\n",
    "    # Residual from node after MHA added\n",
    "    enc4 = layers.Add()([enc2, enc3])\n",
    "    enc4 = layers.LayerNormalization()(enc4)\n",
    "    enc4 = layers.Flatten()(enc4)\n",
    "    enc4 = layers.Dropout(0.1)(enc4)\n",
    "\n",
    "    # MLP Head\n",
    "    mlp = layers.Dense(512, activation='relu', kernel_regularizer=self.mlp_head_reg)(enc4)\n",
    "    #mlp = layers.Dropout(0.1)(mlp)\n",
    "    mlp = layers.Dense(256, activation='relu', kernel_regularizer=self.mlp_head_reg)(mlp)\n",
    "    #mlp = layers.Dropout(0.1)(mlp)\n",
    "    mlp = layers.Dense(128, activation='relu', kernel_regularizer=self.mlp_head_reg)(mlp)\n",
    "    #mlp = layers.Dropout(0.1)(mlp)\n",
    "    mlp = layers.Dense(32, activation='relu', kernel_regularizer=self.mlp_head_reg)(mlp)\n",
    "    #mlp = layers.Dropout(0.1)(mlp)\n",
    "    out = layers.Dense(4)(mlp)\n",
    "\n",
    "    self.model = Model(inputs=start, outputs=out)\n",
    "\n",
    "  # Update network parameters using the below function\n",
    "  def update_network_parameters(self, n_patches=None, mlp_block_reg=None, mlp_head_reg=None, num_heads=None):\n",
    "    if n_patches!=None:\n",
    "      self.n_patches = n_patches\n",
    "    if mlp_block_reg!=None:\n",
    "      self.mlp_block_reg = mlp_block_reg\n",
    "    if mlp_head_reg!=None:\n",
    "      self.mlp_head_reg = mlp_head_reg\n",
    "    if num_heads!=None:\n",
    "      self.num_heads = num_heads\n",
    "    \n",
    "  # Update model hyperparameters using the below function\n",
    "  def update_parameters(self, epochs=None, batch_size=None, metrics=None, opt=None, loss_fn=None):\n",
    "    if epochs!=None:\n",
    "        self.epochs = epochs\n",
    "    if batch_size!=None:\n",
    "        self.batch_size = batch_size\n",
    "    if metrics!=None:\n",
    "        self.metrics = metrics\n",
    "    if opt!=None:\n",
    "        self.opt = opt\n",
    "    if loss_fn!=None:\n",
    "        self.loss_fn = loss_fn\n",
    "\n",
    "  # Fit the model\n",
    "  def fit(self):\n",
    "    self.model.compile(optimizer=self.opt, loss=self.loss_fn, metrics=self.iou)\n",
    "    history = self.model.fit(self.x_train, self.y_train,\n",
    "                        batch_size=self.batch_size, \n",
    "                        epochs=self.epochs, \n",
    "                        validation_data=(self.x_val, self.y_val))\n",
    "  \n",
    "  # Update the values of Loss and IoU for plotting the graph\n",
    "  def update_val(self):\n",
    "    history = self.model.history.history\n",
    "    self.loss_values = history['loss']\n",
    "    self.val_loss_values = history['val_loss']\n",
    "    self.training_iou = history['iou']\n",
    "    self.val_iou = history['val_iou']\n",
    "\n",
    "  # Train the model with training and validation sets\n",
    "  def fit_full(self, verbose=0):\n",
    "    x_train_full = np.vstack([self.x_train, self.x_val])\n",
    "    y_train_full = np.vstack([self.y_train, self.y_val])  \n",
    "    self.model.compile(optimizer=self.opt,\n",
    "          loss=self.loss_fn,\n",
    "        metrics=self.iou\n",
    "          )\n",
    "    self.model.fit(x_train_full, y_train_full, batch_size=self.batch_size, epochs=self.epochs, verbose=verbose)\n",
    "\n",
    "  # Plot the MSE and IoU curves\n",
    "  def plot(self):\n",
    "    epochs_list=range(1, len(self.loss_values)+1)\n",
    "    fig, ax = plt.subplots(1,2, figsize=(12, 5), squeeze=False)\n",
    "    axli = ax.flatten()\n",
    "    sns.lineplot(x=epochs_list, y=self.loss_values, ax=axli[0], legend='brief', label=\"Training Loss\", linewidth=2)\n",
    "    sns.lineplot(x=epochs_list, y=self.val_loss_values, ax=axli[0], legend='brief', label=\"Validation Loss\", linewidth=2)\n",
    "    axli[0].set(title=\"Mean Squared Error\", xlabel='Epochs', ylabel='MSE')\n",
    "\n",
    "    sns.lineplot(x=epochs_list, y=self.training_iou, ax=axli[1], legend='brief', label=\"Training IOU\", linewidth=2)\n",
    "    sns.lineplot(x=epochs_list, y=self.val_iou, ax=axli[1], legend='brief', label=\"Validation IOU\", linewidth=2)\n",
    "    axli[1].set(title=\"IoU\", xlabel='Epochs', ylabel='IoU')\n",
    "    plt.show()\n",
    "\n",
    "  # Load a saved model\n",
    "  def load_model(self, model_file):\n",
    "    self.model = tf.keras.models.load_model(model_file, compile = False, custom_objects={'PatchProcess': PatchProcess})\n",
    "    self.model.compile(optimizer=self.opt, loss=self.loss_fn, metrics=self.iou)\n",
    "  \n",
    "  # Evaluate the model\n",
    "  def evaluate(self):\n",
    "    return(self.model.evaluate(self.x_test, self.y_test))\n",
    "  \n",
    "  # Predict the output bounding boxes\n",
    "  def predict(self):\n",
    "    return(self.model.predict(self.x_test))"
   ]
  },
  {
   "cell_type": "markdown",
   "metadata": {
    "id": "hcg11FhraVXj"
   },
   "source": [
    "### Predict Bounding Box\n",
    "The below function can be used to plot the actual and predicted bounding box for any one image"
   ]
  },
  {
   "cell_type": "code",
   "execution_count": null,
   "metadata": {
    "id": "Yr1xIIgyaZIn"
   },
   "outputs": [],
   "source": [
    "def iou_(pred, actual):\n",
    "    left_x_con = max(pred[0], actual[0])\n",
    "    top_y_con = min(pred[1], actual[1])\n",
    "    bottom_y_con = max(pred[2], actual[2])\n",
    "    right_x_con = min(pred[3], actual[3])\n",
    "\n",
    "    area_intersect = abs((right_x_con - left_x_con)*(top_y_con - bottom_y_con))\n",
    "    area_pred = abs((pred[3] - pred[0])*(pred[1] - pred[2]))\n",
    "    area_actual = abs((actual[3] - actual[0])*(actual[1] - actual[2]))\n",
    "\n",
    "    area_union = area_pred + area_actual - area_intersect\n",
    "    ratio_inter_union = area_intersect/area_union\n",
    "    if ratio_inter_union <0:\n",
    "      ratio_inter_union=0\n",
    "    return(ratio_inter_union)\n",
    "\n",
    "def predict_bounding_box(image_file, an_file, loaded_model):\n",
    "    img_size = 144\n",
    "    im = Image.open(image_file)\n",
    "    w_size = im.size[0]\n",
    "    h_size = im.size[1]\n",
    "    img = im.resize((img_size,img_size))\n",
    "    img = tf.keras.utils.img_to_array(img)\n",
    "    img = tf.expand_dims(img, 0)\n",
    "    pred = loaded_model.predict(img)[0]\n",
    "    pred[0] = pred[0]*w_size\n",
    "    pred[1] = pred[1]*h_size\n",
    "    pred[2] = pred[2]*h_size\n",
    "    pred[3] = pred[3]*w_size\n",
    "    w = pred[3] - pred[0]\n",
    "    h = pred[1] - pred[2]\n",
    "    plt.imshow(np.flipud(im), origin='lower')\n",
    "\n",
    "    ax = plt.gca()\n",
    "    rect = Rectangle((pred[0], pred[2]), w, h, facecolor='none', edgecolor='r')\n",
    "    ax.add_patch(rect)\n",
    "    \n",
    "    actual = sio.loadmat(an_file)\n",
    "    actual = actual['box_coord'][0]\n",
    "    actual = np.array(actual, dtype='float32')\n",
    "\n",
    "    w_a = actual[3] - actual[0]\n",
    "    h_a = actual[1] - actual[2]\n",
    "    rect_a = Rectangle((actual[0], actual[2]), w_a, h_a, facecolor='none', edgecolor='g')\n",
    "    \n",
    "    ax.add_patch(rect_a)\n",
    "    plt.legend([\"Pred\", \"Act\"])\n",
    "    plt.show()"
   ]
  },
  {
   "cell_type": "code",
   "execution_count": null,
   "metadata": {
    "colab": {
     "base_uri": "https://localhost:8080/",
     "height": 203
    },
    "id": "RMGEIeuFacHf",
    "outputId": "28936872-5635-4afd-bba0-0e062f841bf5"
   },
   "outputs": [
    {
     "name": "stdout",
     "output_type": "stream",
     "text": [
      "1/1 [==============================] - 0s 397ms/step\n"
     ]
    },
    {
     "data": {
      "image/png": "[encoded data removed]",
      "text/plain": [
       "<Figure size 432x288 with 1 Axes>"
      ]
     },
     "metadata": {
      "needs_background": "light"
     },
     "output_type": "display_data"
    }
   ],
   "source": [
    "# The below code plots the actual and predicted bounding box for any one image\n",
    "nn = ViT()\n",
    "nn.load_model(\"ViT_test_full.h5\")  # Ensure the weights are in the current directory. If not change the directory\n",
    "dir = directory  # Set the directory if needed\n",
    "num = \"001\"   # Enter image number as string from '001' to '040' (some categories go upto 800)\n",
    "category = \"airplanes\"    # Enter any category that is present as file name in the dataset\n",
    "image_file = dir + \"101_ObjectCategories/\" + category + \"/image_0\" + str(num)+\".jpg\"\n",
    "an_file = dir + \"Annotations/\" + category + \"/annotation_0\" + str(num)+\".mat\"\n",
    "predict_bounding_box(image_file, an_file, nn.model)   # Ensure that nn.model is loaded"
   ]
  },
  {
   "cell_type": "markdown",
   "metadata": {
    "id": "LVtD8vOVmp20"
   },
   "source": [
    "### Appendix"
   ]
  },
  {
   "cell_type": "markdown",
   "metadata": {
    "id": "DLL0sVV2m2O7"
   },
   "source": [
    "#### Appendix 1 - Get dataset.npy and y.npy files\n",
    "Code to get the dataset.npy and y.npy files"
   ]
  },
  {
   "cell_type": "code",
   "execution_count": null,
   "metadata": {
    "id": "SBt9yiQQmsBO"
   },
   "outputs": [],
   "source": [
    "# Set the directory below in order to run this block of code\n",
    "dataset = []\n",
    "y = []\n",
    "y_copy = []\n",
    "img_size = 144\n",
    "length = 0\n",
    "greyscale = 0\n",
    "image_list = os.listdir(directory) # change directory here if needed\n",
    "an_list = os.listdir(directory)  # change directory here if needed\n",
    "for image_categ, an_categ in zip(image_list, an_list):\n",
    "    #print(\"start\")\n",
    "    image_path = directory + \"101_ObjectCategories/\" + image_categ + \"/*.jpg\"  # change directory here\n",
    "    an_path = directory + \"Annotations/\" + an_categ + \"/*.mat\"  # change directory here\n",
    "    sub_image_list = glob.glob(image_path)\n",
    "    sub_image_list.sort()\n",
    "    sub_an_list = glob.glob(an_path)\n",
    "    sub_an_list.sort()\n",
    "    for image_file, an_file in zip(sub_image_list, sub_an_list):\n",
    "        im = Image.open(image_file)\n",
    "        w = im.size[0]\n",
    "        h = im.size[1]\n",
    "        im = im.resize((img_size,img_size))\n",
    "        im = tf.keras.utils.img_to_array(im)\n",
    "        #print(im.shape)\n",
    "        if im.shape == (img_size,img_size,3):\n",
    "            dataset.append(im)\n",
    "            length = length+1\n",
    "            an = sio.loadmat(an_file)\n",
    "            an = an['box_coord'][0]\n",
    "            y_copy.append(an)\n",
    "            an = np.array(an, dtype='float32')\n",
    "\n",
    "            an[3] = an[3]/w\n",
    "            an[0] = an[0]/w\n",
    "            an[2] = an[2]/h\n",
    "            an[1] = an[1]/h\n",
    "            y.append(an)\n",
    "        else:\n",
    "            greyscale +=1\n",
    "print(greyscale)"
   ]
  },
  {
   "cell_type": "code",
   "execution_count": null,
   "metadata": {
    "id": "kMznCXJxqpYH"
   },
   "outputs": [],
   "source": [
    "# Convert to numpy array\n",
    "dataset = np.array(dataset, dtype='float32')\n",
    "y = np.array(y, dtype='float32')\n",
    "print(dataset.shape)\n",
    "print(y.shape)\n",
    "np.save(\"101.npy\", dataset)\n",
    "np.save(\"101_y.npy\", y)"
   ]
  },
  {
   "cell_type": "markdown",
   "metadata": {
    "id": "gNTw7TEym-KL"
   },
   "source": [
    "#### Appendix 2 - Predict by Category\n",
    "The below set of blocks can be used to get the predicted IoU by category"
   ]
  },
  {
   "cell_type": "code",
   "execution_count": null,
   "metadata": {
    "id": "_2gDKQgfnrq2"
   },
   "outputs": [],
   "source": [
    "nn = ViT()\n",
    "nn.get_dataset()\n",
    "nn.load_model(\"ViT_test_full.h5\")"
   ]
  },
  {
   "cell_type": "code",
   "execution_count": null,
   "metadata": {
    "id": "qKnzE0eLnQzv"
   },
   "outputs": [],
   "source": [
    "# Set the directory below in order to run this block of code\n",
    "img_size = 144\n",
    "file_list = []\n",
    "image_list = os.listdir(directory) # change directory here\n",
    "an_list = os.listdir(directory)  # change directory here\n",
    "for image_categ, an_categ in zip(image_list, an_list):\n",
    "    #print(\"start\")\n",
    "    image_path = directory + \"101_ObjectCategories\\\\\" + image_categ + \"\\\\*.jpg\"  # change directory here\n",
    "    an_path = directory + \"Annotations\\\\\" + an_categ + \"\\\\*.mat\"   # change directory here\n",
    "    for image_file, an_file in zip(glob.glob(image_path), glob.glob(an_path)):\n",
    "        im = Image.open(image_file)\n",
    "        w = im.size[0]\n",
    "        h = im.size[1]\n",
    "        im = im.resize((img_size,img_size))\n",
    "        im = tf.keras.utils.img_to_array(im)\n",
    "        if im.shape == (img_size,img_size,3):\n",
    "            #length = length+1\n",
    "            an = sio.loadmat(an_file)\n",
    "            an = an['box_coord'][0]\n",
    "            #y_copy.append(an)\n",
    "            an = np.array(an, dtype='float32')\n",
    "\n",
    "            an[3] = an[3]/w\n",
    "            an[0] = an[0]/w\n",
    "            an[2] = an[2]/h\n",
    "            an[1] = an[1]/h\n",
    "            file_list.append([image_file, an, image_categ])\n"
   ]
  },
  {
   "cell_type": "code",
   "execution_count": null,
   "metadata": {
    "id": "OfNQvbdnm9kn"
   },
   "outputs": [],
   "source": [
    "df = pd.DataFrame(file_list, columns=[\"X\", \"Y\", \"Type\"])\n",
    "data, test = train_test_split(df, test_size = 0.15, stratify=df[\"Type\"], random_state=10)\n",
    "test = test.reset_index(drop=True)\n",
    "img_size = 144\n",
    "pred_out = []\n",
    "for i in range(test.shape[0]):\n",
    "    if(i%100)==0:\n",
    "        print(i)\n",
    "    im = Image.open(test.loc[i, \"X\"])\n",
    "    w = im.size[0]\n",
    "    h = im.size[1]\n",
    "    img = im.resize((img_size,img_size))\n",
    "    img = tf.keras.utils.img_to_array(img)\n",
    "    if img.shape == (img_size,img_size,3):\n",
    "        img = tf.expand_dims(img, 0)\n",
    "        pred = nn.model.predict(img)[0]\n",
    "        an = sio.loadmat(test.loc[i, \"Y\"])\n",
    "        an = an['box_coord'][0]\n",
    "        an = np.array(an, dtype='float32')\n",
    "        an[3] = an[3]/w\n",
    "        an[0] = an[0]/w\n",
    "        an[2] = an[2]/h\n",
    "        an[1] = an[1]/h\n",
    "        y_act = an.copy()\n",
    "        iou_val = iou_(pred, y_act)\n",
    "        pred_out.append([test.loc[i, \"Type\"]])\n",
    "        "
   ]
  },
  {
   "cell_type": "code",
   "execution_count": null,
   "metadata": {
    "id": "f0FawQoqoIxX"
   },
   "outputs": [],
   "source": [
    "pred_df = pd.DataFrame(pred_out, columns=['Type', 'IOU'])\n",
    "out = pred_df.groupby(\"Type\")['IOU'].agg({'mean', 'count'})\n",
    "out['Type'] = out.index\n",
    "out = out.reset_index(drop=True)\n",
    "out.head()"
   ]
  },
  {
   "cell_type": "markdown",
   "metadata": {
    "id": "t1rl0yAWpYa2"
   },
   "source": [
    "#### Appendix 3 - Custom Data Generator"
   ]
  },
  {
   "cell_type": "code",
   "execution_count": null,
   "metadata": {
    "id": "R0LIdP3dpcN2"
   },
   "outputs": [],
   "source": [
    "# Data generator built but not used due to conflicts with tensorflow eager execution\n",
    "class DataGenerator(Sequence):\n",
    "    def __init__(self, batch_size, path_file_x, path_file_y):\n",
    "        self.batch_size = batch_size\n",
    "        self.path_file_x = path_file_x\n",
    "        self.path_file_y = path_file_y\n",
    "\n",
    "    def __len__(self):\n",
    "        return int(np.ceil(self.path_file_x.shape[0]/ float(self.batch_size)))\n",
    "\n",
    "    def __getitem__(self, idx):\n",
    "      batch_x = []\n",
    "      sub_batch_x = self.path_file_x[idx * self.batch_size:(idx + 1) * self.batch_size]\n",
    "      batch_y = self.path_file_y[idx * self.batch_size:(idx + 1) * self.batch_size]\n",
    "      img_size = 144\n",
    "      sub_path_file = self.path_file_x[idx]\n",
    "      for i in range(len(idx)-1):\n",
    "          im = Image.open(sub_path_file[i])\n",
    "          w = im.size[0]\n",
    "          h = im.size[1]\n",
    "          im = im.resize((img_size,img_size))\n",
    "          im = tf.keras.utils.img_to_array(im)\n",
    "          assert(im.shape == (img_size, img_size, 3))\n",
    "          batch_x.append(im)\n",
    "      #batch_y = tf.convert_to_tensor(path_file[idx])\n",
    "      #batch_x = tf.convert_to_tensor(batch_x)\n",
    "      batch_y = self.path_file_y[idx]\n",
    "      return batch_x, batch_y"
   ]
  },
  {
   "cell_type": "markdown",
   "metadata": {
    "id": "rei9a-gc1OCC"
   },
   "source": [
    "### -----Test------\n",
    "Run the sections:\n",
    "- Import Libraries\n",
    "- Update Directory and Settings\n",
    "- PatchProcess Class\n",
    "- ViT Class  \n",
    "Then proceed to test the below blocks of code.  \n",
    "If only the final weights are to be tested move to the last block"
   ]
  },
  {
   "cell_type": "code",
   "execution_count": null,
   "metadata": {
    "id": "zhmn5dGq2FKW"
   },
   "outputs": [],
   "source": [
    "# Initialize the object of the ViT Class\n",
    "nn = ViT()\n"
   ]
  },
  {
   "cell_type": "code",
   "execution_count": null,
   "metadata": {
    "id": "iRV70St91QP9"
   },
   "outputs": [],
   "source": [
    "# Get the dataset\n",
    "nn.get_dataset()"
   ]
  },
  {
   "cell_type": "code",
   "execution_count": null,
   "metadata": {
    "id": "yvgq9v8L1UDu"
   },
   "outputs": [],
   "source": [
    "# Build the network\n",
    "nn.build_network()"
   ]
  },
  {
   "cell_type": "code",
   "execution_count": null,
   "metadata": {
    "id": "g_q8Gl3l2mI-"
   },
   "outputs": [],
   "source": [
    "# update network parameters below if needed (or leave it as None)\n",
    "nn.update_network_parameters(n_patches=6, # Number of patches\n",
    "                             mlp_block_reg=None, # Kernel regularization for MLP Block\n",
    "                             mlp_head_reg=None, # Kernel regularization for MLP Head\n",
    "                             num_heads=3  # Number of heads in Multi-head attention block\n",
    "                             )\n",
    "nn.build_network()"
   ]
  },
  {
   "cell_type": "code",
   "execution_count": null,
   "metadata": {
    "id": "iRIBW9Uv3Lf9"
   },
   "outputs": [],
   "source": [
    "# Update model hyperparameters if needed (or leave it as None)\n",
    "nn.update_parameters(epochs=3, batch_size=64, metrics=None, opt=None, loss_fn=None)"
   ]
  },
  {
   "cell_type": "code",
   "execution_count": null,
   "metadata": {
    "id": "b7WG18JU1VcW"
   },
   "outputs": [],
   "source": [
    "# Fit the model and plot the graphs\n",
    "nn.fit()\n",
    "nn.update_val()\n",
    "nn.plot()"
   ]
  },
  {
   "cell_type": "code",
   "execution_count": null,
   "metadata": {
    "id": "cgJ4cjFq1cVm"
   },
   "outputs": [],
   "source": [
    "# Evaluate and predict the model\n",
    "nn.evaluate()\n",
    "preds = nn.predict()"
   ]
  },
  {
   "cell_type": "markdown",
   "metadata": {
    "id": "UK1Swlg34IVA"
   },
   "source": [
    "#### Test the saved weights directly\n",
    "Run this block of code if only the test accuracy needs to be verified using saved weights  \n",
    "If not already executed, please run the sections:\n",
    "- Import Libraries\n",
    "- Update Directory and Settings\n",
    "- PatchProcess Class\n",
    "- ViT Class "
   ]
  },
  {
   "cell_type": "code",
   "execution_count": null,
   "metadata": {
    "id": "4B034Z__3ixW"
   },
   "outputs": [],
   "source": [
    "# Load a saved model and test the output\n",
    "nn = ViT()\n",
    "nn.get_dataset()\n",
    "nn.load_model(\"ViT_test_full.h5\")\n",
    "nn.evaluate()"
   ]
  },
  {
   "cell_type": "markdown",
   "metadata": {
    "id": "WfhezplnyH5c"
   },
   "source": [
    "### References\n",
    "Please note that all the libraries imported in the first block of code are not written by me and sourced online"
   ]
  }
 ],
 "metadata": {
  "accelerator": "TPU",
  "colab": {
   "provenance": [],
   "toc_visible": true
  },
  "gpuClass": "standard",
  "kernelspec": {
   "display_name": "Python 3 (ipykernel)",
   "language": "python",
   "name": "python3"
  },
  "language_info": {
   "codemirror_mode": {
    "name": "ipython",
    "version": 3
   },
   "file_extension": ".py",
   "mimetype": "text/x-python",
   "name": "python",
   "nbconvert_exporter": "python",
   "pygments_lexer": "ipython3",
   "version": "3.9.13"
  },
  "toc": {
   "base_numbering": 1,
   "nav_menu": {},
   "number_sections": true,
   "sideBar": true,
   "skip_h1_title": false,
   "title_cell": "Table of Contents",
   "title_sidebar": "Contents",
   "toc_cell": false,
   "toc_position": {},
   "toc_section_display": true,
   "toc_window_display": true
  },
  "varInspector": {
   "cols": {
    "lenName": 16,
    "lenType": 16,
    "lenVar": 40
   },
   "kernels_config": {
    "python": {
     "delete_cmd_postfix": "",
     "delete_cmd_prefix": "del ",
     "library": "var_list.py",
     "varRefreshCmd": "print(var_dic_list())"
    },
    "r": {
     "delete_cmd_postfix": ") ",
     "delete_cmd_prefix": "rm(",
     "library": "var_list.r",
     "varRefreshCmd": "cat(var_dic_list()) "
    }
   },
   "types_to_exclude": [
    "module",
    "function",
    "builtin_function_or_method",
    "instance",
    "_Feature"
   ],
   "window_display": false
  }
 },
 "nbformat": 4,
 "nbformat_minor": 1
}
